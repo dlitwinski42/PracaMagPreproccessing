{
 "cells": [
  {
   "cell_type": "code",
   "execution_count": 35,
   "metadata": {},
   "outputs": [],
   "source": [
    "import pandas as pd\n",
    "from sklearn.model_selection import train_test_split\n",
    "from sklearn import preprocessing\n",
    "from Preparation import prepare_to_file, prepare_and_return\n",
    "from Scoring import score, initialize_result_file\n",
    "from Scenarios import drop_columns,remove_missing,fill_missing_mode,fill_missing_max,fill_missing_min,fill_missing_mean,fill_missing_regression,fill_missing_zero,standardize,normalize,remove_outliers_lof,encode_categorical"
   ]
  },
  {
   "cell_type": "code",
   "execution_count": 36,
   "metadata": {},
   "outputs": [],
   "source": [
    "titanic_1 = pd.read_csv('../Datasets/Prepared/titanic_1.csv')\n",
    "titanic_2 = pd.read_csv('../Datasets/Prepared/titanic_2.csv')\n",
    "titanic_3 = pd.read_csv('../Datasets/Prepared/titanic_3.csv')"
   ]
  },
  {
   "cell_type": "code",
   "execution_count": 37,
   "metadata": {},
   "outputs": [],
   "source": [
    "categorical = ['Survived', 'Name', 'Sex', 'Ticket', 'Cabin', 'Embarked']\n",
    "numeric = ['Pclass','Age','SibSp','Parch','Fare']\n",
    "work_columns = ['Pclass', 'Name', 'Sex', 'Age', 'SibSp','Parch', 'Ticket', 'Fare', 'Embarked']\n",
    "to_be_encoded = [\"Name\",\"Sex\",\"Embarked\",\"Ticket\",\"Cabin\"]"
   ]
  },
  {
   "cell_type": "code",
   "execution_count": 38,
   "metadata": {},
   "outputs": [],
   "source": [
    "# initialize_result_file()"
   ]
  },
  {
   "cell_type": "code",
   "execution_count": 39,
   "metadata": {},
   "outputs": [],
   "source": [
    "def no_preprocessing(df,num):\n",
    "    df_1 = df.copy()\n",
    "    df_1 = remove_missing(df_1)\n",
    "    y = df_1['Survived']\n",
    "    df_1= drop_columns(df_1,categorical)\n",
    "    df_1 = df_1.apply(pd.to_numeric)\n",
    "    X = df_1\n",
    "    X_train, X_test, y_train, y_test = train_test_split(X, y, test_size=0.1, random_state=42)\n",
    "    score(\"Titanic\",num,\"Brak\",\"Brak przygotowania\",X_train,y_train,X_test,y_test)"
   ]
  },
  {
   "cell_type": "code",
   "execution_count": 40,
   "metadata": {},
   "outputs": [],
   "source": [
    "def fill_mean(df, num):\n",
    "    df_2 = df.copy()\n",
    "    df_2 = fill_missing_mean(df_2,numeric)\n",
    "    y = df_2['Survived']\n",
    "    df_2 = drop_columns(df_2,categorical)\n",
    "    df_2 = df_2.apply(pd.to_numeric)\n",
    "    X = df_2\n",
    "    X_train, X_test, y_train, y_test = train_test_split(X, y, test_size=0.1, random_state=42)\n",
    "    score(\"Titanic\",num,\"Wypełnienie_brakujących\",\"Wypełnienie średnią\",X_train,y_train,X_test,y_test)"
   ]
  },
  {
   "cell_type": "code",
   "execution_count": 41,
   "metadata": {},
   "outputs": [],
   "source": [
    "def fill_min(df,num):\n",
    "    df_3 = df.copy()\n",
    "    df_3 = fill_missing_min(df_3,numeric)\n",
    "    y = df_3['Survived']\n",
    "    df_3 = df_3.drop(categorical,axis=1)\n",
    "    df_3 = df_3.apply(pd.to_numeric)\n",
    "    X = df_3\n",
    "    X_train, X_test, y_train, y_test = train_test_split(X, y, test_size=0.1, random_state=42)\n",
    "    score(\"Titanic\",num,\"Wypełnienie_brakujących\",\"Wypełnienie minimum\",X_train,y_train,X_test,y_test)"
   ]
  },
  {
   "cell_type": "code",
   "execution_count": 42,
   "metadata": {},
   "outputs": [],
   "source": [
    "def fill_max(df,num):\n",
    "    df_4 = df.copy()\n",
    "    df_4 = fill_missing_max(df_4,numeric)\n",
    "    y = df_4['Survived']\n",
    "    df_4 = df_4.drop(categorical,axis=1)\n",
    "    df_4 = df_4.apply(pd.to_numeric)\n",
    "    X = df_4\n",
    "    X_train, X_test, y_train, y_test = train_test_split(X, y, test_size=0.1, random_state=42)\n",
    "    score(\"Titanic\",num,\"Wypełnienie_brakujących\",\"Wypełnienie maksimum\",X_train,y_train,X_test,y_test)"
   ]
  },
  {
   "cell_type": "code",
   "execution_count": 43,
   "metadata": {},
   "outputs": [],
   "source": [
    "def fill_regression(df,num):\n",
    "    df_new = df.copy()\n",
    "    df_new = fill_missing_regression(df_new, numeric)\n",
    "    y = df_new['Survived']\n",
    "    df_new = df_new.drop(categorical,axis=1)\n",
    "    df_new = df_new.apply(pd.to_numeric)\n",
    "    X = df_new\n",
    "    X_train, X_test, y_train, y_test = train_test_split(X, y, test_size=0.1, random_state=42)\n",
    "    score(\"Titanic\",num,\"Wypełnienie_brakujących\",\"Wypełnienie regresją\",X_train,y_train,X_test,y_test)"
   ]
  },
  {
   "cell_type": "code",
   "execution_count": 44,
   "metadata": {},
   "outputs": [],
   "source": [
    "def standardize_scenario(df,num):\n",
    "    df_5 = df.copy()\n",
    "    df_5 = fill_missing_mean(df_5,numeric)\n",
    "    df_5 = standardize(df_5,numeric)\n",
    "    y = df_5['Survived']\n",
    "    df_5 = df_5.drop(categorical,axis=1)\n",
    "    df_5 = df_5.apply(pd.to_numeric)\n",
    "    X = df_5\n",
    "    X_train, X_test, y_train, y_test = train_test_split(X, y, test_size=0.1, random_state=42)\n",
    "    score(\"Titanic\",num,\"Standaryzacja\",\"Standaryzacja\",X_train,y_train,X_test,y_test)"
   ]
  },
  {
   "cell_type": "code",
   "execution_count": 45,
   "metadata": {},
   "outputs": [],
   "source": [
    "def normalize_scenario(df,num):\n",
    "    df_6 = df.copy()\n",
    "    df_6 = fill_missing_mean(df_6,numeric)\n",
    "    df_6 = normalize(df_6,numeric)\n",
    "    y = df_6['Survived']\n",
    "    df_6 = df_6.drop(categorical,axis=1)\n",
    "    df_6 = df_6.apply(pd.to_numeric)\n",
    "    X = df_6\n",
    "    X_train, X_test, y_train, y_test = train_test_split(X, y, test_size=0.1, random_state=42)\n",
    "    score(\"Titanic\",num,\"Standaryzacja\",\"Skalowanie do (0-1)\",X_train,y_train,X_test,y_test)"
   ]
  },
  {
   "cell_type": "code",
   "execution_count": 46,
   "metadata": {},
   "outputs": [],
   "source": [
    "def normalize_and_remove_outliers(df,num):\n",
    "    df_7 = df.copy()\n",
    "    df_7 = fill_missing_mean(df_7,numeric)\n",
    "    df_7 = normalize(df_7,numeric)\n",
    "    df_7 = remove_outliers_lof(df_7,numeric)\n",
    "    y = df_7['Survived']\n",
    "    df_7 = df_7.drop(categorical,axis=1)\n",
    "    df_7 = df_7.apply(pd.to_numeric)\n",
    "    X = df_7\n",
    "    X_train, X_test, y_train, y_test = train_test_split(X, y, test_size=0.1, random_state=42)\n",
    "    score(\"Titanic\",num,\"Standaryzacja\",\"Skalowanie (0-1) + usuw. odstających\",X_train,y_train,X_test,y_test)"
   ]
  },
  {
   "cell_type": "code",
   "execution_count": 47,
   "metadata": {},
   "outputs": [],
   "source": [
    "def encode_categorical_scenario(df,num):\n",
    "    df_8 = df.copy()\n",
    "    df_8 = remove_missing(df_8)\n",
    "    df_8 = encode_categorical(df_8,to_be_encoded)\n",
    "    y = df_8['Survived']\n",
    "    df_8 = df_8.apply(pd.to_numeric)\n",
    "    X = df_8\n",
    "    X_train, X_test, y_train, y_test = train_test_split(X, y, test_size=0.1, random_state=42)\n",
    "    score(\"Titanic\",num,\"Kodowanie\",\"Kodowanie wartości kategorycznych\",X_train,y_train,X_test,y_test)"
   ]
  },
  {
   "cell_type": "code",
   "execution_count": 48,
   "metadata": {},
   "outputs": [],
   "source": [
    "def encode_categorical_and_fill_missing(df,num):\n",
    "    df_9 = df.copy()\n",
    "    df_9 = fill_missing_mean(df_9,numeric)\n",
    "    df_9 = encode_categorical(df_9,to_be_encoded)\n",
    "    y = df_9['Survived']\n",
    "    df_9 = df_9.apply(pd.to_numeric)\n",
    "    X = df_9\n",
    "    X_train, X_test, y_train, y_test = train_test_split(X, y, test_size=0.1, random_state=42)\n",
    "    score(\"Titanic\",num,\"Kodowanie\",\"Kod. war. kategorycznych + wyp. brak. średnią\",X_train,y_train,X_test,y_test)"
   ]
  },
  {
   "cell_type": "code",
   "execution_count": 49,
   "metadata": {},
   "outputs": [],
   "source": [
    "def custom_scenario(df,num):\n",
    "    df_10 = df.copy()\n",
    "    df_10['Title'] = df_10['Name'].str.extract(' ([A-Za-z]+)\\.', expand=False)\n",
    "    df_10['Title'] = df_10['Title'].fillna(df_10['Title'].mode().iloc[0])\n",
    "    df_10['Title'] = df_10['Title'].replace(['Lady', 'Countess','Capt', 'Col','Don', 'Dr',\\\n",
    "                                            'Major', 'Rev', 'Sir', 'Jonkheer', 'Dona'], 'Rare')\n",
    "    df_10['Title'] = df_10['Title'].replace('Mlle', 'Miss')\n",
    "    df_10['Title'] = df_10['Title'].replace('Ms', 'Miss')\n",
    "    df_10['Title'] = df_10['Title'].replace('Mme', 'Mrs')\n",
    "    df_10 = df_10.drop(['Name','Ticket','PassengerId'],axis=1)\n",
    "    df_10['Cabin'] = df_10['Cabin'].fillna('000')\n",
    "    df_10['Cabin'] = df_10['Cabin'].str[:1]\n",
    "    df_10 = fill_missing_mean(df_10,numeric)\n",
    "    df_10 = df_10.fillna(df_10.mode().iloc[0])\n",
    "    to_be_encoded = [\"Sex\",\"Embarked\",\"Cabin\",\"Title\"]\n",
    "    df_10 = encode_categorical(df_10,to_be_encoded)\n",
    "    y = df_10['Survived']\n",
    "    df_10 = df_10.apply(pd.to_numeric)\n",
    "    X = df_10\n",
    "    X_train, X_test, y_train, y_test = train_test_split(X, y, test_size=0.1, random_state=42)\n",
    "    score(\"Titanic\",num,\"Custom\",\"Custom preprocessing\",X_train,y_train,X_test,y_test)"
   ]
  },
  {
   "cell_type": "code",
   "execution_count": 50,
   "metadata": {},
   "outputs": [
    {
     "name": "stdout",
     "output_type": "stream",
     "text": [
      "========= Titanic_1 =========\n",
      "Scenario: Brak przygotowania\n",
      "Xgboost: 0.7777777777777778\n",
      "Random Forest Classifier: 0.5\n",
      "KNeighbors Classifier: 0.7222222222222222\n",
      "========= Titanic_1 =========\n",
      "Scenario: Wypełnienie średnią\n",
      "Xgboost: 0.7222222222222222\n",
      "Random Forest Classifier: 0.7444444444444445\n",
      "KNeighbors Classifier: 0.7\n",
      "========= Titanic_1 =========\n",
      "Scenario: Wypełnienie minimum\n",
      "Xgboost: 0.7333333333333333\n",
      "Random Forest Classifier: 0.7555555555555555\n",
      "KNeighbors Classifier: 0.6888888888888889\n",
      "========= Titanic_1 =========\n",
      "Scenario: Wypełnienie maksimum\n",
      "Xgboost: 0.7555555555555555\n",
      "Random Forest Classifier: 0.7444444444444445\n",
      "KNeighbors Classifier: 0.6888888888888889\n"
     ]
    },
    {
     "name": "stderr",
     "output_type": "stream",
     "text": [
      "c:\\Users\\Darek\\Documents\\Magisterka\\PracaMagPreproccessing\\Titanic\\Scenarios.py:16: SettingWithCopyWarning: \n",
      "A value is trying to be set on a copy of a slice from a DataFrame.\n",
      "Try using .loc[row_indexer,col_indexer] = value instead\n",
      "\n",
      "See the caveats in the documentation: https://pandas.pydata.org/pandas-docs/stable/user_guide/indexing.html#returning-a-view-versus-a-copy\n",
      "  df[col] = df[col].fillna(df[col].mean())\n",
      "c:\\Users\\Darek\\Documents\\Magisterka\\PracaMagPreproccessing\\Titanic\\Scenarios.py:16: SettingWithCopyWarning: \n",
      "A value is trying to be set on a copy of a slice from a DataFrame.\n",
      "Try using .loc[row_indexer,col_indexer] = value instead\n",
      "\n",
      "See the caveats in the documentation: https://pandas.pydata.org/pandas-docs/stable/user_guide/indexing.html#returning-a-view-versus-a-copy\n",
      "  df[col] = df[col].fillna(df[col].mean())\n",
      "c:\\Users\\Darek\\Documents\\Magisterka\\PracaMagPreproccessing\\Titanic\\Scenarios.py:16: SettingWithCopyWarning: \n",
      "A value is trying to be set on a copy of a slice from a DataFrame.\n",
      "Try using .loc[row_indexer,col_indexer] = value instead\n",
      "\n",
      "See the caveats in the documentation: https://pandas.pydata.org/pandas-docs/stable/user_guide/indexing.html#returning-a-view-versus-a-copy\n",
      "  df[col] = df[col].fillna(df[col].mean())\n",
      "c:\\Users\\Darek\\Documents\\Magisterka\\PracaMagPreproccessing\\Titanic\\Scenarios.py:16: SettingWithCopyWarning: \n",
      "A value is trying to be set on a copy of a slice from a DataFrame.\n",
      "Try using .loc[row_indexer,col_indexer] = value instead\n",
      "\n",
      "See the caveats in the documentation: https://pandas.pydata.org/pandas-docs/stable/user_guide/indexing.html#returning-a-view-versus-a-copy\n",
      "  df[col] = df[col].fillna(df[col].mean())\n",
      "c:\\Users\\Darek\\Documents\\Magisterka\\PracaMagPreproccessing\\Titanic\\Scenarios.py:16: SettingWithCopyWarning: \n",
      "A value is trying to be set on a copy of a slice from a DataFrame.\n",
      "Try using .loc[row_indexer,col_indexer] = value instead\n",
      "\n",
      "See the caveats in the documentation: https://pandas.pydata.org/pandas-docs/stable/user_guide/indexing.html#returning-a-view-versus-a-copy\n",
      "  df[col] = df[col].fillna(df[col].mean())\n"
     ]
    },
    {
     "name": "stdout",
     "output_type": "stream",
     "text": [
      "========= Titanic_1 =========\n",
      "Scenario: Wypełnienie regresją\n",
      "Xgboost: 0.7111111111111111\n",
      "Random Forest Classifier: 0.7333333333333333\n",
      "KNeighbors Classifier: 0.7\n",
      "========= Titanic_2 =========\n",
      "Scenario: Brak przygotowania\n",
      "Xgboost: 0.6842105263157895\n",
      "Random Forest Classifier: 0.631578947368421\n",
      "KNeighbors Classifier: 0.5789473684210527\n",
      "========= Titanic_2 =========\n",
      "Scenario: Wypełnienie średnią\n",
      "Xgboost: 0.7222222222222222\n",
      "Random Forest Classifier: 0.7333333333333333\n",
      "KNeighbors Classifier: 0.6777777777777778\n",
      "========= Titanic_2 =========\n",
      "Scenario: Wypełnienie minimum\n",
      "Xgboost: 0.7222222222222222\n",
      "Random Forest Classifier: 0.7444444444444445\n",
      "KNeighbors Classifier: 0.6777777777777778\n",
      "========= Titanic_2 =========\n",
      "Scenario: Wypełnienie maksimum\n",
      "Xgboost: 0.7777777777777778\n",
      "Random Forest Classifier: 0.7666666666666667\n",
      "KNeighbors Classifier: 0.6777777777777778\n"
     ]
    },
    {
     "name": "stderr",
     "output_type": "stream",
     "text": [
      "c:\\Users\\Darek\\Documents\\Magisterka\\PracaMagPreproccessing\\Titanic\\Scenarios.py:16: SettingWithCopyWarning: \n",
      "A value is trying to be set on a copy of a slice from a DataFrame.\n",
      "Try using .loc[row_indexer,col_indexer] = value instead\n",
      "\n",
      "See the caveats in the documentation: https://pandas.pydata.org/pandas-docs/stable/user_guide/indexing.html#returning-a-view-versus-a-copy\n",
      "  df[col] = df[col].fillna(df[col].mean())\n",
      "c:\\Users\\Darek\\Documents\\Magisterka\\PracaMagPreproccessing\\Titanic\\Scenarios.py:16: SettingWithCopyWarning: \n",
      "A value is trying to be set on a copy of a slice from a DataFrame.\n",
      "Try using .loc[row_indexer,col_indexer] = value instead\n",
      "\n",
      "See the caveats in the documentation: https://pandas.pydata.org/pandas-docs/stable/user_guide/indexing.html#returning-a-view-versus-a-copy\n",
      "  df[col] = df[col].fillna(df[col].mean())\n",
      "c:\\Users\\Darek\\Documents\\Magisterka\\PracaMagPreproccessing\\Titanic\\Scenarios.py:16: SettingWithCopyWarning: \n",
      "A value is trying to be set on a copy of a slice from a DataFrame.\n",
      "Try using .loc[row_indexer,col_indexer] = value instead\n",
      "\n",
      "See the caveats in the documentation: https://pandas.pydata.org/pandas-docs/stable/user_guide/indexing.html#returning-a-view-versus-a-copy\n",
      "  df[col] = df[col].fillna(df[col].mean())\n",
      "c:\\Users\\Darek\\Documents\\Magisterka\\PracaMagPreproccessing\\Titanic\\Scenarios.py:16: SettingWithCopyWarning: \n",
      "A value is trying to be set on a copy of a slice from a DataFrame.\n",
      "Try using .loc[row_indexer,col_indexer] = value instead\n",
      "\n",
      "See the caveats in the documentation: https://pandas.pydata.org/pandas-docs/stable/user_guide/indexing.html#returning-a-view-versus-a-copy\n",
      "  df[col] = df[col].fillna(df[col].mean())\n",
      "c:\\Users\\Darek\\Documents\\Magisterka\\PracaMagPreproccessing\\Titanic\\Scenarios.py:16: SettingWithCopyWarning: \n",
      "A value is trying to be set on a copy of a slice from a DataFrame.\n",
      "Try using .loc[row_indexer,col_indexer] = value instead\n",
      "\n",
      "See the caveats in the documentation: https://pandas.pydata.org/pandas-docs/stable/user_guide/indexing.html#returning-a-view-versus-a-copy\n",
      "  df[col] = df[col].fillna(df[col].mean())\n"
     ]
    },
    {
     "name": "stdout",
     "output_type": "stream",
     "text": [
      "========= Titanic_2 =========\n",
      "Scenario: Wypełnienie regresją\n",
      "Xgboost: 0.7333333333333333\n",
      "Random Forest Classifier: 0.7333333333333333\n",
      "KNeighbors Classifier: 0.6777777777777778\n",
      "========= Titanic_3 =========\n",
      "Scenario: Brak przygotowania\n",
      "Xgboost: 0.631578947368421\n",
      "Random Forest Classifier: 0.7368421052631579\n",
      "KNeighbors Classifier: 0.5789473684210527\n",
      "========= Titanic_3 =========\n",
      "Scenario: Wypełnienie średnią\n",
      "Xgboost: 0.7444444444444445\n",
      "Random Forest Classifier: 0.7444444444444445\n",
      "KNeighbors Classifier: 0.7111111111111111\n",
      "========= Titanic_3 =========\n",
      "Scenario: Wypełnienie minimum\n",
      "Xgboost: 0.7444444444444445\n",
      "Random Forest Classifier: 0.7444444444444445\n",
      "KNeighbors Classifier: 0.6888888888888889\n",
      "========= Titanic_3 =========\n",
      "Scenario: Wypełnienie maksimum\n",
      "Xgboost: 0.7222222222222222\n",
      "Random Forest Classifier: 0.7333333333333333\n",
      "KNeighbors Classifier: 0.7\n"
     ]
    },
    {
     "name": "stderr",
     "output_type": "stream",
     "text": [
      "c:\\Users\\Darek\\Documents\\Magisterka\\PracaMagPreproccessing\\Titanic\\Scenarios.py:16: SettingWithCopyWarning: \n",
      "A value is trying to be set on a copy of a slice from a DataFrame.\n",
      "Try using .loc[row_indexer,col_indexer] = value instead\n",
      "\n",
      "See the caveats in the documentation: https://pandas.pydata.org/pandas-docs/stable/user_guide/indexing.html#returning-a-view-versus-a-copy\n",
      "  df[col] = df[col].fillna(df[col].mean())\n",
      "c:\\Users\\Darek\\Documents\\Magisterka\\PracaMagPreproccessing\\Titanic\\Scenarios.py:16: SettingWithCopyWarning: \n",
      "A value is trying to be set on a copy of a slice from a DataFrame.\n",
      "Try using .loc[row_indexer,col_indexer] = value instead\n",
      "\n",
      "See the caveats in the documentation: https://pandas.pydata.org/pandas-docs/stable/user_guide/indexing.html#returning-a-view-versus-a-copy\n",
      "  df[col] = df[col].fillna(df[col].mean())\n",
      "c:\\Users\\Darek\\Documents\\Magisterka\\PracaMagPreproccessing\\Titanic\\Scenarios.py:16: SettingWithCopyWarning: \n",
      "A value is trying to be set on a copy of a slice from a DataFrame.\n",
      "Try using .loc[row_indexer,col_indexer] = value instead\n",
      "\n",
      "See the caveats in the documentation: https://pandas.pydata.org/pandas-docs/stable/user_guide/indexing.html#returning-a-view-versus-a-copy\n",
      "  df[col] = df[col].fillna(df[col].mean())\n",
      "c:\\Users\\Darek\\Documents\\Magisterka\\PracaMagPreproccessing\\Titanic\\Scenarios.py:16: SettingWithCopyWarning: \n",
      "A value is trying to be set on a copy of a slice from a DataFrame.\n",
      "Try using .loc[row_indexer,col_indexer] = value instead\n",
      "\n",
      "See the caveats in the documentation: https://pandas.pydata.org/pandas-docs/stable/user_guide/indexing.html#returning-a-view-versus-a-copy\n",
      "  df[col] = df[col].fillna(df[col].mean())\n",
      "c:\\Users\\Darek\\Documents\\Magisterka\\PracaMagPreproccessing\\Titanic\\Scenarios.py:16: SettingWithCopyWarning: \n",
      "A value is trying to be set on a copy of a slice from a DataFrame.\n",
      "Try using .loc[row_indexer,col_indexer] = value instead\n",
      "\n",
      "See the caveats in the documentation: https://pandas.pydata.org/pandas-docs/stable/user_guide/indexing.html#returning-a-view-versus-a-copy\n",
      "  df[col] = df[col].fillna(df[col].mean())\n"
     ]
    },
    {
     "name": "stdout",
     "output_type": "stream",
     "text": [
      "========= Titanic_3 =========\n",
      "Scenario: Wypełnienie regresją\n",
      "Xgboost: 0.7555555555555555\n",
      "Random Forest Classifier: 0.7222222222222222\n",
      "KNeighbors Classifier: 0.7\n"
     ]
    }
   ],
   "source": [
    "num = 1\n",
    "for df_i in [titanic_1,titanic_2,titanic_3]:\n",
    "    no_preprocessing(df_i,num)\n",
    "    fill_mean(df_i,num)\n",
    "    fill_min(df_i,num)\n",
    "    fill_max(df_i,num)\n",
    "    fill_regression(df_i,num)\n",
    "    num = num + 1"
   ]
  },
  {
   "cell_type": "code",
   "execution_count": 51,
   "metadata": {},
   "outputs": [
    {
     "name": "stdout",
     "output_type": "stream",
     "text": [
      "========= Titanic_1 =========\n",
      "Scenario: Standaryzacja\n",
      "Xgboost: 0.7222222222222222\n",
      "Random Forest Classifier: 0.7444444444444445\n",
      "KNeighbors Classifier: 0.6444444444444445\n",
      "========= Titanic_1 =========\n",
      "Scenario: Skalowanie do (0-1)\n",
      "Xgboost: 0.7222222222222222\n",
      "Random Forest Classifier: 0.7444444444444445\n",
      "KNeighbors Classifier: 0.5777777777777777\n",
      "========= Titanic_1 =========\n",
      "Scenario: Skalowanie do (0-1) z usuwaniem odstających\n",
      "Xgboost: 0.703125\n",
      "Random Forest Classifier: 0.71875\n",
      "KNeighbors Classifier: 0.65625\n",
      "========= Titanic_2 =========\n",
      "Scenario: Standaryzacja\n",
      "Xgboost: 0.7222222222222222\n",
      "Random Forest Classifier: 0.7333333333333333\n",
      "KNeighbors Classifier: 0.6333333333333333\n",
      "========= Titanic_2 =========\n",
      "Scenario: Skalowanie do (0-1)\n",
      "Xgboost: 0.7222222222222222\n",
      "Random Forest Classifier: 0.7333333333333333\n",
      "KNeighbors Classifier: 0.5777777777777777\n",
      "========= Titanic_2 =========\n",
      "Scenario: Skalowanie do (0-1) z usuwaniem odstających\n",
      "Xgboost: 0.71875\n",
      "Random Forest Classifier: 0.71875\n",
      "KNeighbors Classifier: 0.65625\n",
      "========= Titanic_3 =========\n",
      "Scenario: Standaryzacja\n",
      "Xgboost: 0.7444444444444445\n",
      "Random Forest Classifier: 0.7444444444444445\n",
      "KNeighbors Classifier: 0.6444444444444445\n",
      "========= Titanic_3 =========\n",
      "Scenario: Skalowanie do (0-1)\n",
      "Xgboost: 0.7444444444444445\n",
      "Random Forest Classifier: 0.7444444444444445\n",
      "KNeighbors Classifier: 0.5777777777777777\n",
      "========= Titanic_3 =========\n",
      "Scenario: Skalowanie do (0-1) z usuwaniem odstających\n",
      "Xgboost: 0.6461538461538462\n",
      "Random Forest Classifier: 0.6307692307692307\n",
      "KNeighbors Classifier: 0.6923076923076923\n"
     ]
    }
   ],
   "source": [
    "num = 1\n",
    "for df_i in [titanic_1,titanic_2,titanic_3]:\n",
    "    standardize_scenario(df_i,num)\n",
    "    normalize_scenario(df_i,num)\n",
    "    normalize_and_remove_outliers(df_i,num)\n",
    "    num = num + 1"
   ]
  },
  {
   "cell_type": "code",
   "execution_count": 52,
   "metadata": {},
   "outputs": [
    {
     "name": "stdout",
     "output_type": "stream",
     "text": [
      "========= Titanic_1 =========\n",
      "Scenario: Kodowanie wartości kategorycznych\n",
      "Xgboost: 1.0\n",
      "Random Forest Classifier: 1.0\n",
      "KNeighbors Classifier: 0.6111111111111112\n",
      "========= Titanic_1 =========\n",
      "Scenario: Kodowanie wartości kategorycznych + wypełnienie średnią\n",
      "Xgboost: 1.0\n",
      "Random Forest Classifier: 1.0\n",
      "KNeighbors Classifier: 0.7\n",
      "========= Titanic_1 =========\n",
      "Scenario: Custom preprocessing\n",
      "Xgboost: 1.0\n",
      "Random Forest Classifier: 1.0\n",
      "KNeighbors Classifier: 0.8333333333333334\n",
      "========= Titanic_2 =========\n",
      "Scenario: Kodowanie wartości kategorycznych\n",
      "Xgboost: 1.0\n",
      "Random Forest Classifier: 1.0\n",
      "KNeighbors Classifier: 0.5789473684210527\n",
      "========= Titanic_2 =========\n",
      "Scenario: Kodowanie wartości kategorycznych + wypełnienie średnią\n",
      "Xgboost: 1.0\n",
      "Random Forest Classifier: 1.0\n",
      "KNeighbors Classifier: 0.6777777777777778\n",
      "========= Titanic_2 =========\n",
      "Scenario: Custom preprocessing\n",
      "Xgboost: 1.0\n",
      "Random Forest Classifier: 1.0\n",
      "KNeighbors Classifier: 0.8111111111111111\n",
      "========= Titanic_3 =========\n",
      "Scenario: Kodowanie wartości kategorycznych\n",
      "Xgboost: 1.0\n",
      "Random Forest Classifier: 1.0\n",
      "KNeighbors Classifier: 0.5789473684210527\n",
      "========= Titanic_3 =========\n",
      "Scenario: Kodowanie wartości kategorycznych + wypełnienie średnią\n",
      "Xgboost: 1.0\n",
      "Random Forest Classifier: 1.0\n",
      "KNeighbors Classifier: 0.7\n",
      "========= Titanic_3 =========\n",
      "Scenario: Custom preprocessing\n",
      "Xgboost: 1.0\n",
      "Random Forest Classifier: 1.0\n",
      "KNeighbors Classifier: 0.8222222222222222\n"
     ]
    }
   ],
   "source": [
    "num = 1\n",
    "for df_i in [titanic_1,titanic_2,titanic_3]:\n",
    "    encode_categorical_scenario(df_i,num)\n",
    "    encode_categorical_and_fill_missing(df_i,num)\n",
    "    custom_scenario(df_i,num)\n",
    "    num = num + 1"
   ]
  },
  {
   "cell_type": "code",
   "execution_count": null,
   "metadata": {},
   "outputs": [],
   "source": []
  }
 ],
 "metadata": {
  "kernelspec": {
   "display_name": "base",
   "language": "python",
   "name": "python3"
  },
  "language_info": {
   "codemirror_mode": {
    "name": "ipython",
    "version": 3
   },
   "file_extension": ".py",
   "mimetype": "text/x-python",
   "name": "python",
   "nbconvert_exporter": "python",
   "pygments_lexer": "ipython3",
   "version": "3.9.12"
  },
  "orig_nbformat": 4
 },
 "nbformat": 4,
 "nbformat_minor": 2
}
